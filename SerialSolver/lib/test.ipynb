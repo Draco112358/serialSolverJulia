{
 "cells": [
  {
   "cell_type": "code",
   "execution_count": 1,
   "metadata": {},
   "outputs": [
    {
     "data": {
      "text/plain": [
       "s2y (generic function with 1 method)"
      ]
     },
     "execution_count": 1,
     "metadata": {},
     "output_type": "execute_result"
    }
   ],
   "source": [
    "\n",
    "include(\"build_Yle_S.jl\")\n",
    "include(\"compute_Z_self.jl\")\n",
    "using SparseArrays, SuperLU, IterativeSolvers, FFTW, FourierTools\n",
    "using LinearMaps, MAT, LinearAlgebra, Krylov, KrylovMethods\n",
    "\n",
    "\n",
    "\n",
    "function FFT_solver_QS_S_type(freq, escalings, incidence_selection, FFTCP, FFTCLp, diagonals, ports, lumped_elements, expansions, GMRES_settings, Zs_info, QS_Rcc_FW)\n",
    "    println(Base.Threads.nthreads())\n",
    "    FFTW.set_num_threads(3)\n",
    "    BLAS.set_num_threads(3)\n",
    "    freq = freq .* escalings[\"freq\"]\n",
    "    # GMRES settings ----------------------------\n",
    "    Inner_Iter = GMRES_settings.Inner_Iter\n",
    "    Outer_Iter = GMRES_settings.Outer_Iter\n",
    "    # -------------------------------------------\n",
    "    m = size(incidence_selection[\"A\"], 1)\n",
    "    n = size(incidence_selection[\"A\"], 2)\n",
    "    ns = size(incidence_selection[\"Gamma\"], 2)\n",
    "    w = 2 .* pi .* freq\n",
    "    nfreq = length(w)\n",
    "    is = zeros(Float64, n, 1)\n",
    "    S = zeros(ComplexF64, size(ports.port_nodes, 1), size(ports.port_nodes, 1), length(freq))\n",
    "    Vrest = zeros(ComplexF64, m + n + ns, size(ports.port_nodes, 1))\n",
    "    invP = sparse(1:ns, 1:ns, 1 ./ diagonals[\"P\"],ns,ns)\n",
    "    R_chiusura = 50.0\n",
    "    \n",
    "    for k = 1:nfreq\n",
    "        println(\"Freq n=$k - Freq Tot=$nfreq\")\n",
    "        # Questa parte la vedremo in futuro (ignoratela per ora tanto QS_Rcc_FW è impostato ad 1)-------------------------------------------------------\n",
    "        if QS_Rcc_FW == 2\n",
    "            FFTCLp_rebuilted = compute_Circulant_Lp_Rcc(FFTCLp, escalings, freq[k] ./ escalings[\"freq\"])\n",
    "            FFTCP_rebuilted = compute_Circulant_P_sup_Rcc(FFTCP, escalings, freq[k] ./ escalings[\"freq\"])\n",
    "        elseif QS_Rcc_FW == 3\n",
    "            FFTCLp_rebuilted = compute_Circulant_Lp_FW(FFTCLp, escalings, freq[k] ./ escalings[\"freq\"])\n",
    "            FFTCP_rebuilted = compute_Circulant_P_sup_FW(FFTCP, escalings, freq[k] ./ escalings[\"freq\"])\n",
    "        end\n",
    "        # ---------------------------------------------------------------------------\n",
    "\n",
    "        Yle = build_Yle_S(lumped_elements, [], ports, escalings, n, w[k] / escalings[\"freq\"], R_chiusura)\n",
    "        Z_self = compute_Z_self(diagonals[\"R\"], diagonals[\"Cd\"], w[k])\n",
    "        Zs = escalings[\"R\"] * (Zs_info[\"Zs\"] * sqrt(w[k] / escalings[\"freq\"]))\n",
    "        ind_to_put_zero_Z_self = findall((real.(Zs[Zs_info[\"surface_edges\"]]) .- real.(Z_self[Zs_info[\"surface_edges\"]])) .> 0)\n",
    "        ind_to_put_zero_Zs = findall((real.(Zs[Zs_info[\"surface_edges\"]]) .- real.(Z_self[Zs_info[\"surface_edges\"]])) .< 0)\n",
    "        Z_self[Zs_info[\"surface_edges\"][ind_to_put_zero_Z_self]] .= 0 .+ 1im * imag.(Z_self[Zs_info[\"surface_edges\"][ind_to_put_zero_Z_self]])\n",
    "        Zs[Zs_info[\"surface_edges\"][ind_to_put_zero_Zs]] .= 0 .+ 1im * imag.(Zs[Zs_info[\"surface_edges\"][ind_to_put_zero_Zs]])\n",
    "        DZ = Z_self .+ real.(Zs)\n",
    "        DZ .= DZ .+ 1im * w[k] * diagonals[\"Lp\"]\n",
    "        invZ = sparse(1:m, 1:m, 1 ./ DZ[:],m,m)\n",
    "        \n",
    "        # --------------------- preconditioner ------------------------\n",
    "        SS = Yle+(prod_real_complex(transpose(incidence_selection[\"A\"]) , prod_complex_real(invZ , incidence_selection[\"A\"])) + 1im * w[k] * incidence_selection[\"Gamma\"] * invP * transpose(incidence_selection[\"Gamma\"]))\n",
    "        F = LinearAlgebra.lu(SS)\n",
    "        \n",
    "        # --------------------------------------------------------------\n",
    "        for c1 = 1:size(ports.port_nodes, 1)\n",
    "            n1 = convert(Int64,ports.port_nodes[c1, 1])\n",
    "            n2 = convert(Int64,ports.port_nodes[c1, 2])\n",
    "            is[n1] = 1 * escalings[\"Is\"]\n",
    "            is[n2] = -1 * escalings[\"Is\"]\n",
    "            tn = precond_3_3_Kt(F, invZ, invP, incidence_selection[\"A\"], incidence_selection[\"Gamma\"], m, ns, is)\n",
    "    \n",
    "            products_law = x ->   ComputeMatrixVector(x, w[k], incidence_selection, FFTCP, FFTCLp, DZ, Yle, expansions, invZ, invP, F)\n",
    "            prodts = LinearMap{ComplexF64}(products_law, n + m + ns, n + m + ns)\n",
    "            #x0::Vector{ComplexF64}=Vrest[:, c1];\n",
    "        \n",
    "            if QS_Rcc_FW == 1\n",
    "                #V, flag, relres, iter, resvec = gmres(ComputeMatrixVector, tn, Inner_Iter, GMRES_settings.tol[k], Outer_Iter, [], [], Vrest[:, c1], w[k], incidence_selection, FFTCP, FFTCLp, DZ, Yle, expansions, invZ, invP, L1, U1, P1, Q1)\n",
    "                \n",
    "                V, info = IterativeSolvers.gmres!(Vrest[:, c1], prodts, tn; reltol=GMRES_settings.tol[k], restart=Inner_Iter, maxiter=Inner_Iter, initially_zero=false, log=true, verbose=false)\n",
    "                #V, info = IterativeSolvers.gmres(prodts, tn; reltol=GMRES_settings.tol[k], restart=Inner_Iter, maxiter=Inner_Iter, initially_zero=false, log=true, verbose=true)\n",
    "                println(info)\n",
    "                \n",
    "                # (V, stats) = Krylov.gmres(prodts,tn,x0;restart=false, memory=Outer_Iter, reorthogonalization=false,rtol=GMRES_settings.tol[k], itmax=Inner_Iter,verbose=1, history=false)\n",
    "            \n",
    "                # if (stats.solved==true)        \n",
    "                #     println(\"convergence reached, number of iterations: \"*string(stats.niter))\n",
    "                # else\n",
    "                #     println(\"convergence not reached, number of iterations: \"*string(stats.niter))\n",
    "                # end\n",
    "\n",
    "                #V,flag,err,iter,resvec = KrylovMethods.gmres(prodts,tn,Inner_Iter,tol=GMRES_settings.tol[k],maxIter=1,x=x0,out=1)\n",
    "\n",
    "                # if (flag==0)        \n",
    "                #     println(\"convergence reached, number of iterations: \"*string(length(resvec)))\n",
    "                # elseif(flag==-1)\n",
    "                #     println(\"convergence not reached, number of iterations: \"*string(length(resvec)))\n",
    "                # else\n",
    "                #     println(\"RHS all zeros, number of iterations: \"*string(length(resvec)))\n",
    "                # end\n",
    "            else\n",
    "                #V, flag, relres, iter, resvec = gmres(ComputeMatrixVector, tn, Inner_Iter, GMRES_settings.tol[k], Outer_Iter, [], [], Vrest[:, c1], w[k], incidence_selection, FFTCP_rebuilted, FFTCLp_rebuilted, DZ, Yle, expansions, invZ, invP, L1, U1, P1, Q1)\n",
    "            end\n",
    "            \n",
    "            Vrest[:, c1] = V\n",
    "            is[n1] = 0\n",
    "            is[n2] = 0\n",
    "            for c2 = c1:size(ports.port_nodes, 1)\n",
    "                n3 = convert(Int64, ports.port_nodes[c2, 1])\n",
    "                n4 = convert(Int64, ports.port_nodes[c2, 2])\n",
    "                if c1 == c2\n",
    "                    S[c1, c2, k] = (2 * (V[m+ns+n3] - V[m+ns+n4]) - R_chiusura) / R_chiusura\n",
    "                else\n",
    "                    S[c1, c2, k] = (2 * (V[m+ns+n3] - V[m+ns+n4])) / R_chiusura\n",
    "                end\n",
    "                S[c2, c1, k] = S[c1, c2, k]\n",
    "            end\n",
    "        end\n",
    "    end\n",
    "    out = Dict()\n",
    "    out[\"S\"] = S\n",
    "    out[\"Z\"] = s2z(S, R_chiusura)\n",
    "    out[\"Y\"] = s2y(S, R_chiusura)\n",
    "    out[\"f\"] = freq ./ escalings[\"freq\"]\n",
    "    return out\n",
    "end\n",
    "\n",
    "function ComputeMatrixVector(x_in, w, incidence_selection, FFTCP, FFTCLp, DZ, Yle, expansions, invZ, invP, lu)\n",
    "    x::Vector{ComplexF64}=x_in[:,1];\n",
    "    m = size(incidence_selection[\"A\"], 1)\n",
    "    ns = size(incidence_selection[\"Gamma\"], 2)\n",
    "    I = x[1:m]\n",
    "    Q = x[m+1:m+ns]\n",
    "    Phi = x[m+ns+1:end]\n",
    "    # Lp * I ---------------------------------------------------------------\n",
    "    mx = incidence_selection[\"mx\"]\n",
    "    my = incidence_selection[\"my\"]\n",
    "    mz = incidence_selection[\"mz\"]\n",
    "    Y1 = zeros(ComplexF64, m)\n",
    "    ind_aux_Lp = Dict{Int,Vector{Int}}()\n",
    "    ind_aux_Lp[1] = 1:mx\n",
    "    ind_aux_Lp[2] = mx+1:mx+my\n",
    "    ind_aux_Lp[3] = mx+my+1:mx+my+mz\n",
    "    for cont = 1:3\n",
    "            Nx = size(FFTCLp[cont, 1], 1) ÷ 2\n",
    "            Ny = size(FFTCLp[cont, 1], 2) ÷ 2\n",
    "            Nz = size(FFTCLp[cont, 1], 3) ÷ 2\n",
    "            Ired = I[ind_aux_Lp[cont]]\n",
    "            I_exp = prod_real_complex(expansions[\"mat_map_Lp\"][cont, 1] , Ired)\n",
    "            CircKT = reshape(I_exp, Nx, Ny, Nz)\n",
    "            padded_CircKt = zeros(ComplexF64, 2*Nx,2*Ny,2*Nz)\n",
    "            @views padded_CircKt[1:size(CircKT,1), 1:size(CircKT,2), 1:size(CircKT,3)] = CircKT\n",
    "            Chi = ifft!(FFTCLp[cont, 1] .* fft!(padded_CircKt))\n",
    "            Y1[ind_aux_Lp[cont]] = Y1[ind_aux_Lp[cont]] + prod_real_complex(transpose(expansions[\"mat_map_Lp\"][cont, 1]) , reshape(Chi[1:Nx, 1:Ny, 1:Nz], Nx * Ny * Nz, 1))\n",
    "    end\n",
    "    Y1 = 1im * w * Y1 + DZ .* I + prod_real_complex(incidence_selection[\"A\"] , Phi)\n",
    "    # ---------------- P * Q ---------------------------------------------\n",
    "    Y2 = zeros(ComplexF64,ns)\n",
    "    for cont1 = 1:3\n",
    "        for cont2 = cont1:3\n",
    "            Nx = size(FFTCP[cont1, cont2], 1) ÷ 2\n",
    "            Ny = size(FFTCP[cont1, cont2], 2) ÷ 2\n",
    "            Nz = size(FFTCP[cont1, cont2], 3) ÷ 2\n",
    "            Q_exp = prod_real_complex(expansions[\"exp_P\"][cont1, cont2] , Q)\n",
    "            CircKT = reshape(Q_exp, Nx, Ny, Nz)\n",
    "            padded_CircKt = zeros(ComplexF64, 2*Nx,2*Ny,2*Nz)\n",
    "            @views padded_CircKt[1:size(CircKT,1), 1:size(CircKT,2), 1:size(CircKT,3)] = CircKT\n",
    "            Chi = ifft!(FFTCP[cont1, cont2] .* fft!(padded_CircKt))\n",
    "            Y2 = Y2 + prod_real_complex(transpose(expansions[\"exp_P\"][cont2, cont1]) , (reshape(Chi[1:Nx, 1:Ny, 1:Nz], Nx * Ny * Nz, 1)))\n",
    "            if cont1 != cont2\n",
    "                Q_exp = prod_real_complex(expansions[\"exp_P\"][cont2, cont1] , Q)\n",
    "                CircKT = reshape(Q_exp, Nx, Ny, Nz)\n",
    "                padded_CircKt = zeros(ComplexF64, 2*Nx,2*Ny,2*Nz)\n",
    "                @views padded_CircKt[1:size(CircKT,1), 1:size(CircKT,2), 1:size(CircKT,3)] = CircKT\n",
    "                Chi = ifft!(FFTCP[cont1, cont2] .* fft!(padded_CircKt))\n",
    "                Y2 = Y2 + prod_real_complex(transpose(expansions[\"exp_P\"][cont1, cont2]) , (reshape(Chi[1:Nx, 1:Ny, 1:Nz], Nx * Ny * Nz, 1)))\n",
    "            end\n",
    "        end\n",
    "    end\n",
    "    Y2 = Y2 - prod_real_complex(transpose(incidence_selection[\"Gamma\"]) , Phi)\n",
    "    Y3 = -1.0*(prod_real_complex(transpose(incidence_selection[\"A\"]) , I)) + prod_real_complex(Yle , Phi) + 1im * w * (prod_real_complex(incidence_selection[\"Gamma\"] , Q))\n",
    "    MatrixVector = precond_3_3_vector(lu, invZ, invP, incidence_selection[\"A\"], incidence_selection[\"Gamma\"], w, Y1, Y2, Y3)\n",
    "    return MatrixVector\n",
    "end\n",
    "\n",
    "\n",
    "function precond_3_3_Kt(F, invZ, invP, A,Gamma, n1,n2, X3)\n",
    "\n",
    "    n3 = length(X3)\n",
    "\n",
    "    i1 = range(1, stop=n1)\n",
    "    i2 = range(n1+1, stop=n1 + n2)\n",
    "    i3 = range(n1 + n2 + 1, stop=n1 + n2 + n3)\n",
    "\n",
    "    Y = zeros(ComplexF64, n1 + n2 + n3)\n",
    "\n",
    "    M5 = F\\X3\n",
    "\n",
    "    Y[i1] .= Y[i1] .- 1.0*(prod_real_complex(invZ, prod_real_complex(A, M5)))\n",
    "    Y[i2] .= Y[i2] .+ (prod_real_complex(invP, prod_real_complex(transpose(Gamma), M5)))\n",
    "    Y[i3] .= Y[i3] .+ M5\n",
    "\n",
    "    return Y\n",
    "end\n",
    "\n",
    "function precond_3_3_vector(F,invZ,invP,A,Gamma,w,X1,X2,X3)\n",
    "\n",
    "    n1=length(X1)\n",
    "    n2=length(X2)\n",
    "    n3=length(X3)\n",
    "\n",
    "    i1=range(1, stop=n1)\n",
    "    i2=range(n1+1,stop=n1+n2)\n",
    "    i3=range(n1+n2+1,stop=n1+n2+n3)\n",
    "\n",
    "    Y=zeros(ComplexF64 , n1+n2+n3)\n",
    "\n",
    "    M1 = prod_real_complex(invZ, X1)\n",
    "    M2 = F\\(prod_real_complex(transpose(A), M1))  \n",
    "    M3 = prod_real_complex(invP, X2)   \n",
    "    M4 = F\\prod_real_complex(Gamma, M3) \n",
    "    M5 = F\\X3\n",
    "    \n",
    "    Y[i1] .= Y[i1] .+ M1-1.0*(prod_real_complex((invZ),prod_real_complex((A), M2)))\n",
    "    Y[i1] .= Y[i1] .+ 1im*w*(prod_real_complex((invZ),prod_real_complex((A), M4)))\n",
    "    Y[i1] .= Y[i1] .- 1.0*(prod_real_complex((invZ),prod_real_complex((A), M5)))\n",
    "    \n",
    "    Y[i2] .= Y[i2] .+ (prod_real_complex(invP,prod_real_complex((transpose(Gamma)), M2)))\n",
    "    Y[i2] .= Y[i2] .+ M3 - 1im*w*(prod_real_complex(invP,prod_real_complex(transpose(Gamma), M4)))\n",
    "    Y[i2] .= Y[i2] .+ (prod_real_complex(invP,prod_real_complex(transpose(Gamma), M5)))\n",
    "    \n",
    "    Y[i3] .= Y[i3] .+ M2\n",
    "    Y[i3] .= Y[i3] .- 1im*w*M4\n",
    "    Y[i3] .= Y[i3] .+ M5\n",
    "    \n",
    "    Y=convert(Array{Complex{Float64}}, Y)\n",
    "    return Y\n",
    "end\n",
    "\n",
    "function prod_real_complex(A,x)\n",
    "    # A is a N x N real matrix and x is a complex matrix\n",
    "    N=size(A,1);\n",
    "    y=zeros(ComplexF64 , N, 1)\n",
    "    y=*(A,real.(x))+1im * *(A,imag.(x))\n",
    "    return y\n",
    "end\n",
    "\n",
    "function prod_complex_real(A,x)\n",
    "    # A is a N x N complex matrix and x is a real matrix\n",
    "    N=size(A,1);\n",
    "    y=zeros(ComplexF64 , N, 1)\n",
    "    y=*(real.(A),x)+1im * *(imag.(A),x)\n",
    "    return y\n",
    "end\n",
    "\n",
    "function s2z(S,Zo)\n",
    "    num_ports=size(S)[1]\n",
    "    nfreq=size(S)[3]\n",
    "    Z = zeros(ComplexF64 , num_ports, num_ports, nfreq)\n",
    "    Id = Matrix{Int64}(I, num_ports, num_ports)\n",
    "    for cont in range(1, stop=nfreq)\n",
    "        Z[:,:,cont]=Zo*((Id-1.0*S[:,:,cont])\\(Id+S[:,:,cont]))\n",
    "    end\n",
    "    return Z\n",
    "end\n",
    "\n",
    "function s2y(S,Zo)\n",
    "    num_ports=size(S)[1]\n",
    "    nfreq=size(S)[3]\n",
    "    Y = zeros(ComplexF64 , num_ports, num_ports, nfreq)\n",
    "    Id = Matrix{Int64}(I, num_ports, num_ports)\n",
    "    for cont in range(1, stop=nfreq)\n",
    "        Y[:,:,cont]=Zo*((Id+S[:,:,cont])\\(Id-1.0*S[:,:,cont]))\n",
    "    end\n",
    "    return Y\n",
    "end\n",
    "\n"
   ]
  },
  {
   "cell_type": "code",
   "execution_count": 2,
   "metadata": {},
   "outputs": [
    {
     "data": {
      "text/plain": [
       "doSolving (generic function with 1 method)"
      ]
     },
     "execution_count": 2,
     "metadata": {},
     "output_type": "execute_result"
    }
   ],
   "source": [
    "include(\"create_volumes_mapping_v2.jl\")\n",
    "include(\"create_volume_centers.jl\")\n",
    "include(\"create_Grids_externals.jl\")\n",
    "include(\"compute_FFT_mutual_coupling_mats.jl\")\n",
    "include(\"mesher_FFT.jl\")\n",
    "\n",
    "using JSON, DelimitedFiles, JSON3, MAT, JLD2\n",
    "using MLUtils: unsqueeze\n",
    "\n",
    "\n",
    "function encode_complex(z)\n",
    "    if z isa Complex\n",
    "        return (z.re, z.im)\n",
    "    else\n",
    "        error(\"Object of type $typeof(z) is not JSON serializable\")\n",
    "    end\n",
    "end\n",
    "       \n",
    "function dump_json_data(matrix_Z,matrix_S,matrix_Y, num_ports)\n",
    "\n",
    "    z = [[[[0.1, 0.0]]]]\n",
    "    pop!(z)\n",
    "\n",
    "    matrix_Z = convert(Array{ComplexF64, 3}, matrix_Z)\n",
    "    matrix_S = convert(Array{ComplexF64, 3}, matrix_S)\n",
    "    matrix_Y = convert(Array{ComplexF64, 3}, matrix_Y)\n",
    "\n",
    "    for i in range(1,num_ports)\n",
    "        for j in range(1, num_ports)\n",
    "            elements = map(v -> reinterpret(Float64, [v]), matrix_Z[i,j,:])\n",
    "            push!(z, [elements])\n",
    "        end\n",
    "    end\n",
    "\n",
    "    s = [[[[0.1, 0.0]]]]\n",
    "    pop!(s)\n",
    "    \n",
    "    for i in range(1,num_ports)\n",
    "        for j in range(1, num_ports)\n",
    "            elements = map(v -> reinterpret(Float64, [v]), matrix_S[i,j,:])\n",
    "            push!(s, [elements])\n",
    "        end\n",
    "    end\n",
    "\n",
    "    y = [[[[0.1, 0.0]]]]\n",
    "    pop!(y)\n",
    "    \n",
    "    for i in range(1,num_ports)\n",
    "        for j in range(1, num_ports)\n",
    "            elements = map(v -> reinterpret(Float64, [v]), matrix_Y[i,j,:])\n",
    "            push!(y, [elements])\n",
    "        end\n",
    "    end\n",
    "\n",
    "    solver_matrices_dict = Dict(\n",
    "        \"matrix_Z\" => JSON.json(z),\n",
    "        \"matrix_S\" => JSON.json(s),\n",
    "        \"matrix_Y\" => JSON.json(y)\n",
    "    )\n",
    "    \n",
    "    return solver_matrices_dict\n",
    "end\n",
    "\n",
    "\n",
    "Base.@kwdef struct signal\n",
    "    dict_element\n",
    "    value = complex(float(dict_element[\"Re\"]),float(dict_element)[\"Im\"])\n",
    "end\n",
    "        \n",
    "Base.@kwdef struct geom_attributes\n",
    "    dict_element\n",
    "    radius = dict_element[\"radius\"]\n",
    "    segments = dict_element[\"segments\"]\n",
    "end\n",
    "        \n",
    "Base.@kwdef struct transf_params\n",
    "    dict_element\n",
    "    position = dict_element[\"position\"]\n",
    "    rotation = dict_element[\"rotation\"]  \n",
    "    scale = dict_element[\"scale\"]   \n",
    "end\n",
    "\n",
    "Base.@kwdef struct element\n",
    "    dict_element\n",
    "    name = dict_element[\"name\"]\n",
    "    type = dict_element[\"type\"]\n",
    "    keyComponent = dict_element[\"keyComponent\"]\n",
    "    geometryAttributes = geom_attributes(dict_element[\"geometryAttributes\"])\n",
    "    transformationParams = transf_params(dict_element[\"transformationParams\"])\n",
    "end\n",
    "        \n",
    "            \n",
    "        \n",
    "Base.@kwdef struct port\n",
    "    dict_element\n",
    "    name = dict_element[\"name\"]\n",
    "    type = dict_element[\"type\"]\n",
    "    inputElement = element(dict_element[\"inputElement\"])\n",
    "    outputElement = element(dict_element[\"outputElement\"])\n",
    "    rlcParams = dict_element[\"rlcParams\"]\n",
    "    isSelected = dict_element[\"isSelected\"]\n",
    "end\n",
    "\n",
    "        \n",
    "Base.@kwdef struct lumped_element\n",
    "    dict_element\n",
    "    name = dict_element[\"name\"]\n",
    "    type = dict_element[\"type\"]\n",
    "    value = dict_element[\"value\"]\n",
    "    inputElement = element(dict_element[\"inputElement\"])\n",
    "    outputElement = element(dict_element[\"outputElement\"])\n",
    "    rlcParams = dict_element[\"rlcParams\"]\n",
    "    isSelected = dict_element[\"isSelected\"]\n",
    "end\n",
    "\n",
    "Base.@kwdef mutable struct material\n",
    "    dict_element\n",
    "    name = dict_element[\"name\"]\n",
    "    color = dict_element[\"color\"]\n",
    "    permeability = dict_element[\"permeability\"]\n",
    "    tangent_delta_permeability = dict_element[\"tangent_delta_permeability\"]\n",
    "    custom_permeability = dict_element[\"custom_permeability\"]\n",
    "    permittivity = dict_element[\"permittivity\"]\n",
    "    tangent_delta_permittivity = dict_element[\"tangent_delta_permittivity\"]\n",
    "    custom_permittivity = dict_element[\"custom_permittivity\"]\n",
    "    conductivity = dict_element[\"conductivity\"]\n",
    "    tangent_delta_conductivity = dict_element[\"tangent_delta_conductivity\"]\n",
    "    custom_conductivity = dict_element[\"custom_conductivity\"]\n",
    "    sigmar = dict_element[\"conductivity\"]\n",
    "    tan_D = dict_element[\"tangent_delta_permittivity\"]\n",
    "    eps_re = dict_element[\"permittivity\"]\n",
    "    mur = dict_element[\"permeability\"]\n",
    "    epsr = 1\n",
    "    Rx = nothing\n",
    "    Ry = nothing\n",
    "    Rz = nothing\n",
    "    Cx = nothing\n",
    "    Cy = nothing\n",
    "    Cz = nothing\n",
    "end\n",
    "        \n",
    "mutable struct port_def\n",
    "    port_start\n",
    "    port_end\n",
    "    port_voxels\n",
    "    port_nodes\n",
    "    surf_s_port_nodes\n",
    "    surf_e_port_nodes\n",
    "end\n",
    "\n",
    "mutable struct le_def\n",
    "    value\n",
    "    type\n",
    "    le_start\n",
    "    le_end\n",
    "    le_voxels\n",
    "    le_nodes\n",
    "    surf_s_le_nodes\n",
    "    surf_e_le_nodes\n",
    "end\n",
    "                \n",
    "\n",
    "function read_ports(inputData, escal)\n",
    "    #@assert inputData isa Dict\n",
    "    ports = inputData[\"ports\"]\n",
    "    port_objects = [el for el in ports]\n",
    "    input_positions = []\n",
    "    output_positions = []\n",
    "    N_PORTS = length(port_objects)\n",
    "    \n",
    "    for port_object in port_objects\n",
    "        @assert length(port_object.inputElement.transformationParams.position)==3\n",
    "        ipos = zeros((1,3))\n",
    "        ipos[1, 1] = port_object.inputElement.transformationParams.position[1]*escal\n",
    "        ipos[1, 2] = port_object.inputElement.transformationParams.position[2]*escal\n",
    "        ipos[1, 3] = port_object.inputElement.transformationParams.position[3]*escal\n",
    "        push!(input_positions, ipos)\n",
    "        @assert length(port_object.outputElement.transformationParams.position)==3\n",
    "        opos = zeros((1, 3))\n",
    "        opos[1, 1] = port_object.outputElement.transformationParams.position[1]*escal\n",
    "        opos[1, 2] = port_object.outputElement.transformationParams.position[2]*escal\n",
    "        opos[1, 3] = port_object.outputElement.transformationParams.position[3]*escal\n",
    "        push!(output_positions, opos)\n",
    "    end\n",
    "    @assert length(input_positions)==N_PORTS && length(output_positions)==N_PORTS\n",
    "    inp_pos = []\n",
    "    for i in input_positions\n",
    "        push!(inp_pos, unsqueeze([i], dims=2))\n",
    "    end\n",
    "    out_pos = []\n",
    "    for i in output_positions\n",
    "        push!(out_pos, unsqueeze([i], dims=2))\n",
    "    end\n",
    "    ports_out = port_def(inp_pos, out_pos,zeros(Int64, (N_PORTS, 2)),zeros(Int64,(N_PORTS, 2)), Array{Any}(undef,0), Array{Any}(undef,0))\n",
    "    \n",
    "    return ports_out\n",
    "end\n",
    "\n",
    "\n",
    "function read_lumped_elements(inputData, escal)\n",
    "    \n",
    "    #@assert inputData isa Dict\n",
    "    \n",
    "    lumped_elements = inputData[\"lumped_elements\"]\n",
    "    \n",
    "    lumped_elements_objects = [el for el in lumped_elements]\n",
    "    input_positions = []\n",
    "    output_positions = []\n",
    "    values = []\n",
    "    types = []\n",
    "    N_LUMPED_ELEMENTS = length(lumped_elements_objects)\n",
    "    if N_LUMPED_ELEMENTS == 0\n",
    "        lumped_elements_out = le_def(zeros(0),zeros(Int64, 0),zeros((0, 3)),zeros((0, 3)),zeros(Int64, (0, 2)),zeros(Int64, (0, 2)), Array{Any}(undef,0), Array{Any}(undef,0))\n",
    "        @assert length(input_positions)==N_LUMPED_ELEMENTS && length(output_positions)==N_LUMPED_ELEMENTS && length(values)==N_LUMPED_ELEMENTS && length(types)==N_LUMPED_ELEMENTS\n",
    "    else\n",
    "        for lumped_element_object in lumped_elements_objects\n",
    "            @assert length(lumped_element_object.inputElement.transformationParams.position)==3\n",
    "            ipos = zeros((1,3))\n",
    "            ipos[1, 1] = lumped_element_object.inputElement.transformationParams.position[1]*escal\n",
    "            ipos[1, 2] = lumped_element_object.inputElement.transformationParams.position[2]*escal\n",
    "            ipos[1, 3] = lumped_element_object.inputElement.transformationParams.position[3]*escal\n",
    "            push!(input_positions, ipos)\n",
    "            @assert length(lumped_element_object.outputElement.transformationParams.position)==3\n",
    "            opos = zeros((1, 3))\n",
    "            opos[1, 1] = lumped_element_object.outputElement.transformationParams.position[1]*escal\n",
    "            opos[1, 2] = lumped_element_object.outputElement.transformationParams.position[2]*escal\n",
    "            opos[1, 3] = lumped_element_object.outputElement.transformationParams.position[3]*escal\n",
    "            push!(output_positions, opos)            \n",
    "            lvalue = zeros(1)\n",
    "            lvalue[1] = lumped_element_object.value\n",
    "            append!(values, lvalue)\n",
    "            \n",
    "            ltype = zeros(Int64, 1)\n",
    "            ltype[1] = lumped_element_object.type\n",
    "            push!(types, ltype)\n",
    "        end\n",
    "    end\n",
    "            \n",
    "        @assert length(input_positions)==N_LUMPED_ELEMENTS && length(output_positions)==N_LUMPED_ELEMENTS && length(values)==N_LUMPED_ELEMENTS && length(types)==N_LUMPED_ELEMENTS\n",
    "    \n",
    "        value = []\n",
    "        for i in values\n",
    "            push!(value, i[1])\n",
    "        end\n",
    "\n",
    "        type = []\n",
    "        for i in types\n",
    "            push!(type, i[1])\n",
    "        end\n",
    "\n",
    "        in_pos = []\n",
    "        for i in input_positions\n",
    "            push!(in_pos, unsqueeze([i], dims=2))\n",
    "        end\n",
    "\n",
    "        out_pos = []\n",
    "        for i in output_positions\n",
    "            push!(out_pos, unsqueeze([i], dims=2))\n",
    "        end\n",
    "\n",
    "        lumped_elements_out = le_def(value,type,in_pos, out_pos,zeros(Int64, (N_LUMPED_ELEMENTS, 2)), (Int64, (N_LUMPED_ELEMENTS, 2)), Array{Any}(undef,0), Array{Any}(undef,0))\n",
    "\n",
    "    return lumped_elements_out\n",
    "end\n",
    "\n",
    "function read_materials(inputData)\n",
    "    #@assert inputData isa Dict\n",
    "    materials = inputData[\"materials\"]\n",
    "    # for el in materials\n",
    "    #     el[\"sigmar\"] = 9.4e6\n",
    "    #     el[\"tan_D\"] = 0\n",
    "    #     el[\"eps_re\"] = 1\n",
    "    #     el[\"mur\"] = 1\n",
    "    # end\n",
    "    materials_objects = [material(dict_element=el) for el in materials]\n",
    "    return materials_objects\n",
    "end\n",
    "\n",
    "function read_signals(inputData)\n",
    "    #@assert inputData isa Dict\n",
    "    signals = inputData[\"signals\"]\n",
    "    signals_objects = [el for el in signals]\n",
    "    return signals_objects\n",
    "end\n",
    "\n",
    "struct GMRES_set\n",
    "    Inner_Iter\n",
    "    Outer_Iter\n",
    "    tol\n",
    "end\n",
    "\n",
    "function getEscalFrom(unit)\n",
    "    escal = 1\n",
    "    if (unit == \"m\")\n",
    "        escal = 1\n",
    "    end\n",
    "    if (unit == \"dm\")\n",
    "        escal = 1e-1\n",
    "    end\n",
    "    if (unit == \"cm\")\n",
    "        escal = 1e-2\n",
    "    end\n",
    "    if (unit == \"mm\")\n",
    "        escal = 1e-3\n",
    "    end\n",
    "    if (unit == \"microm\")\n",
    "        escal = 1e-6\n",
    "    end\n",
    "    if (unit == \"nanom\")\n",
    "        escal = 1e-9\n",
    "    end\n",
    "    return escal\n",
    "end\n",
    "\n",
    "    \n",
    "function doSolving(mesherDict, inputDict, unit)    \n",
    "\n",
    "    escal = getEscalFrom(unit)\n",
    "\n",
    "    #@save \"/Users/edgardovittoria/Downloads/spiraleInput3.jl\" mesherDict inputDict unit\n",
    "\n",
    "    \n",
    "\n",
    "    \n",
    "    sx, sy, sz = mesherDict[\"cell_size\"][\"cell_size_x\"]*1000*escal,mesherDict[\"cell_size\"][\"cell_size_y\"]*1000*escal,mesherDict[\"cell_size\"][\"cell_size_z\"]*1000*escal\n",
    "   \n",
    "\n",
    "    origin_x = mesherDict[\"origin\"][\"origin_x\"]\n",
    "    origin_y = mesherDict[\"origin\"][\"origin_y\"]\n",
    "    origin_z = mesherDict[\"origin\"][\"origin_z\"]\n",
    "\n",
    "    origin = (origin_x,origin_y,origin_z)\n",
    "    Nx = Int64(mesherDict[\"n_cells\"][\"n_cells_x\"])\n",
    "    Ny = Int64(mesherDict[\"n_cells\"][\"n_cells_y\"])\n",
    "    Nz = Int64(mesherDict[\"n_cells\"][\"n_cells_z\"])\n",
    "\n",
    "    testarray = []\n",
    "    for (index, value) in mesherDict[\"mesher_matrices\"]\n",
    "        push!(testarray, copy(value))\n",
    "    end\n",
    "\n",
    "\n",
    "    grids = []\n",
    "\n",
    "    for values in testarray\n",
    "        if (length(testarray) == 1)\n",
    "            grids = unsqueeze([values], dims=2)\n",
    "        else\n",
    "            push!(grids, unsqueeze(values, dims=2))\n",
    "        end\n",
    "    end\n",
    "\n",
    "\n",
    "    frequencies = inputDict[\"frequencies\"]\n",
    "    freq = Array{Float64}(undef, 1, length(frequencies))\n",
    "    for i in range(1, length(frequencies))\n",
    "        freq[1,i] = frequencies[i]\n",
    "    end\n",
    "    #freq = convert(Array{Float64}, freq)\n",
    "\n",
    "    n_freq = length(freq)\n",
    "    \n",
    "    PORTS = read_ports(inputDict, escal)\n",
    "\n",
    "    L_ELEMENTS = read_lumped_elements(inputDict, escal)\n",
    "\n",
    "    MATERIALS = read_materials(inputDict) \n",
    "    SIGNALS = read_signals(inputDict)\n",
    "    \n",
    "    \n",
    "    \n",
    "    \n",
    "    # # START SETTINGS--------------------------------------------\n",
    "    \n",
    "    inner_Iter = 100\n",
    "    outer_Iter = 1\n",
    "    tol = 1e-4*ones((n_freq))\n",
    "    # ind_low_freq= filter(i -> !iszero(freq[i]), findall(f -> f<1e5, freq))\n",
    "    # tol[ind_low_freq] .= 1e-7\n",
    "    \n",
    "\n",
    "    GMRES_settings = GMRES_set(inner_Iter,outer_Iter,tol)\n",
    "    QS_Rcc_FW=1; # 1 QS, 2 Rcc, 3 Taylor\n",
    "    use_escalings=1;\n",
    "\n",
    "    \n",
    "   \n",
    "    #display(jsonmesher)\n",
    "    mapping_vols,num_centri=create_volumes_mapping_v2(grids)\n",
    "    \n",
    "    #centri_vox,id_mat=create_volume_centers(grids,mapping_vols,num_full_vox,sx,sy,sz);\n",
    "    centri_vox,id_mat=create_volume_centers(grids,mapping_vols,num_centri,sx,sy,sz,origin);\n",
    "\n",
    "\n",
    "    externals_grids=create_Grids_externals(grids);\n",
    "    escalings,incidence_selection,circulant_centers,diagonals,expansions,ports,lumped_elements,li_mats,Zs_info=mesher_FFT(use_escalings,MATERIALS,sx,sy,sz,grids,centri_vox,externals_grids,mapping_vols,PORTS,L_ELEMENTS, origin);\n",
    "    \n",
    "    # matwrite(\"/Users/edgardovittoria/Downloads/matfile.mat\", Dict(\n",
    "    #     \"grids\" =>  grids,\n",
    "    #     \"num_full_vox\" => num_centri,\n",
    "    #     \"sx\" => sx,\n",
    "    #     \"sy\" => sy,\n",
    "    #     \"sz\" => sz\n",
    "    # ))\n",
    "    FFTCP,FFTCLp= @time compute_FFT_mutual_coupling_mats(circulant_centers,escalings,Nx,Ny,Nz,QS_Rcc_FW);\n",
    "    #println(FFTCLp)\n",
    "    \n",
    "    println(\"time for solver\")\n",
    "    out = @time FFT_solver_QS_S_type(freq,escalings,incidence_selection,FFTCP,FFTCLp,diagonals,ports,lumped_elements,expansions,GMRES_settings,Zs_info,QS_Rcc_FW);\n",
    "    #println(out)\n",
    "    return dump_json_data(out[\"Z\"],out[\"S\"],out[\"Y\"], length(inputDict[\"ports\"]))\n",
    "end\n",
    "\n"
   ]
  },
  {
   "cell_type": "code",
   "execution_count": 11,
   "metadata": {},
   "outputs": [
    {
     "name": "stdout",
     "output_type": "stream",
     "text": [
      "Running Test crossbar 1\n",
      "  0.868922 seconds (29.95 M allocations: 684.263 MiB, 6.39% gc time)\n",
      "time for solver\n",
      "6\n",
      "Freq n=1 - Freq Tot=10\n",
      "Converged after 8 iterations.\n",
      "Converged after 8 iterations.\n",
      "Freq n=2 - Freq Tot=10\n",
      "Converged after 14 iterations.\n",
      "Converged after 14 iterations.\n",
      "Freq n=3 - Freq Tot=10\n",
      "Converged after 7 iterations.\n",
      "Converged after 7 iterations.\n",
      "Freq n=4 - Freq Tot=10\n",
      "Converged after 7 iterations.\n",
      "Converged after 7 iterations.\n",
      "Freq n=5 - Freq Tot=10\n",
      "Converged after 9 iterations.\n",
      "Converged after 9 iterations.\n",
      "Freq n=6 - Freq Tot=10\n",
      "Converged after 11 iterations.\n",
      "Converged after 11 iterations.\n",
      "Freq n=7 - Freq Tot=10\n",
      "Converged after 13 iterations.\n",
      "Converged after 13 iterations.\n",
      "Freq n=8 - Freq Tot=10\n",
      "Converged after 16 iterations.\n",
      "Converged after 16 iterations.\n",
      "Freq n=9 - Freq Tot=10\n",
      "Converged after 19 iterations.\n",
      "Converged after 19 iterations.\n",
      "Freq n=10 - Freq Tot=10\n",
      "Converged after 23 iterations.\n",
      "Converged after 24 iterations.\n",
      " 14.992277 seconds (1.48 M allocations: 19.633 GiB, 5.09% gc time)\n"
     ]
    },
    {
     "data": {
      "text/plain": [
       "Dict{String, String} with 3 entries:\n",
       "  \"matrix_Z\" => \"[[[[25.0966484770434,0.0009496074287147255],[25.09664443777136…\n",
       "  \"matrix_S\" => \"[[[[-0.49614907092313587,3.994040273127039e-5],[-0.49614910084…\n",
       "  \"matrix_Y\" => \"[[[[6491.28569757601,-68.60189126965025],[6488.615744285878,-1…"
      ]
     },
     "execution_count": 11,
     "metadata": {},
     "output_type": "execute_result"
    },
    {
     "name": "stdout",
     "output_type": "stream",
     "text": [
      "  1\t 10\t3.03e-03\n",
      "  1\t 11\t1.95e-03\n",
      "  1\t 12\t7.78e-04\n",
      "  1\t 13\t4.90e-04\n"
     ]
    },
    {
     "name": "stdout",
     "output_type": "stream",
     "text": [
      "  1\t 14\t3.05e-04\n",
      "\n",
      "Converged after 14 iterations.\n",
      "=== gmres ===\n",
      "rest\titer\tresnorm\n"
     ]
    },
    {
     "name": "stdout",
     "output_type": "stream",
     "text": [
      "  1\t  1\t3.81e+00\n",
      "  1\t  2\t3.74e+00\n"
     ]
    },
    {
     "name": "stdout",
     "output_type": "stream",
     "text": [
      "  1\t  3\t2.41e+00\n",
      "  1\t  4\t9.42e-01\n"
     ]
    },
    {
     "name": "stdout",
     "output_type": "stream",
     "text": [
      "  1\t  5\t6.38e-01\n",
      "  1\t  6\t1.35e-01\n"
     ]
    },
    {
     "name": "stdout",
     "output_type": "stream",
     "text": [
      "  1\t  7\t4.13e-02\n",
      "  1\t  8\t1.71e-02\n",
      "  1\t  9\t5.40e-03\n",
      "  1\t 10\t3.16e-03\n"
     ]
    },
    {
     "name": "stdout",
     "output_type": "stream",
     "text": [
      "  1\t 11\t2.02e-03\n",
      "  1\t 12\t7.49e-04\n"
     ]
    },
    {
     "name": "stdout",
     "output_type": "stream",
     "text": [
      "  1\t 13\t4.21e-04\n",
      "  1\t 14\t2.23e-04\n",
      "\n",
      "Converged after 14 iterations.\n"
     ]
    },
    {
     "name": "stdout",
     "output_type": "stream",
     "text": [
      "=== gmres ===\n",
      "rest\titer\tresnorm\n",
      "  1\t  1\t6.60e-01\n"
     ]
    },
    {
     "name": "stdout",
     "output_type": "stream",
     "text": [
      "  1\t  2\t1.45e-01\n",
      "  1\t  3\t4.67e-02\n"
     ]
    },
    {
     "name": "stdout",
     "output_type": "stream",
     "text": [
      "  1\t  4\t3.86e-02\n",
      "  1\t  5\t3.24e-02\n",
      "  1\t  6\t9.83e-03\n",
      "  1\t  7\t3.26e-04\n"
     ]
    },
    {
     "name": "stdout",
     "output_type": "stream",
     "text": [
      "\n",
      "Converged after 7 iterations.\n",
      "=== gmres ===\n",
      "rest\titer\tresnorm\n",
      "  1\t  1\t4.19e-01\n"
     ]
    },
    {
     "name": "stdout",
     "output_type": "stream",
     "text": [
      "  1\t  2\t1.99e-01\n",
      "  1\t  3\t9.77e-02\n"
     ]
    },
    {
     "name": "stdout",
     "output_type": "stream",
     "text": [
      "  1\t  4\t4.61e-02\n",
      "  1\t  5\t4.34e-02\n",
      "  1\t  6\t8.90e-03\n",
      "  1\t  7\t2.53e-04\n"
     ]
    },
    {
     "name": "stdout",
     "output_type": "stream",
     "text": [
      "\n",
      "Converged after 7 iterations.\n",
      "=== gmres ===\n",
      "rest\titer\tresnorm\n",
      "  1\t  1\t6.27e-01\n"
     ]
    },
    {
     "name": "stdout",
     "output_type": "stream",
     "text": [
      "  1\t  2\t2.03e-01\n",
      "  1\t  3\t1.71e-01\n"
     ]
    },
    {
     "name": "stdout",
     "output_type": "stream",
     "text": [
      "  1\t  4\t1.18e-01\n",
      "  1\t  5\t4.38e-02\n"
     ]
    },
    {
     "name": "stdout",
     "output_type": "stream",
     "text": [
      "  1\t  6\t5.03e-03\n",
      "  1\t  7\t1.41e-03\n"
     ]
    },
    {
     "name": "stdout",
     "output_type": "stream",
     "text": [
      "\n",
      "Converged after 7 iterations.\n",
      "=== gmres ===\n",
      "rest\titer\tresnorm\n",
      "  1\t  1\t2.97e-01\n"
     ]
    },
    {
     "name": "stdout",
     "output_type": "stream",
     "text": [
      "  1\t  2\t1.78e-01\n",
      "  1\t  3\t1.45e-01\n"
     ]
    },
    {
     "name": "stdout",
     "output_type": "stream",
     "text": [
      "  1\t  4\t1.23e-01\n",
      "  1\t  5\t4.77e-02\n"
     ]
    },
    {
     "name": "stdout",
     "output_type": "stream",
     "text": [
      "  1\t  6\t7.76e-03\n",
      "  1\t  7\t1.37e-03\n",
      "\n",
      "Converged after 7 iterations.\n"
     ]
    },
    {
     "name": "stdout",
     "output_type": "stream",
     "text": [
      "=== gmres ===\n",
      "rest\titer\tresnorm\n",
      "  1\t  1\t1.17e+00\n"
     ]
    },
    {
     "name": "stdout",
     "output_type": "stream",
     "text": [
      "  1\t  2\t8.20e-01\n",
      "  1\t  3\t6.38e-01\n"
     ]
    },
    {
     "name": "stdout",
     "output_type": "stream",
     "text": [
      "  1\t  4\t3.19e-01\n",
      "  1\t  5\t1.49e-01\n"
     ]
    },
    {
     "name": "stdout",
     "output_type": "stream",
     "text": [
      "  1\t  6\t8.30e-02\n",
      "  1\t  7\t1.30e-02\n"
     ]
    },
    {
     "name": "stdout",
     "output_type": "stream",
     "text": [
      "  1\t  8\t9.92e-03\n",
      "  1\t  9\t3.42e-03\n",
      "\n",
      "Converged after 9 iterations.\n"
     ]
    },
    {
     "name": "stdout",
     "output_type": "stream",
     "text": [
      "=== gmres ===\n",
      "rest\titer\tresnorm\n",
      "  1\t  1\t9.34e-01\n"
     ]
    },
    {
     "name": "stdout",
     "output_type": "stream",
     "text": [
      "  1\t  2\t8.22e-01\n",
      "  1\t  3\t5.78e-01\n"
     ]
    },
    {
     "name": "stdout",
     "output_type": "stream",
     "text": [
      "  1\t  4\t1.91e-01\n",
      "  1\t  5\t6.55e-02\n"
     ]
    },
    {
     "name": "stdout",
     "output_type": "stream",
     "text": [
      "  1\t  6\t3.75e-02\n",
      "  1\t  7\t1.25e-02\n"
     ]
    },
    {
     "name": "stdout",
     "output_type": "stream",
     "text": [
      "  1\t  8\t9.79e-03\n",
      "  1\t  9\t3.29e-03\n",
      "\n",
      "Converged after 9 iterations.\n"
     ]
    },
    {
     "name": "stdout",
     "output_type": "stream",
     "text": [
      "=== gmres ===\n",
      "rest\titer\tresnorm\n",
      "  1\t  1\t4.75e+00\n"
     ]
    },
    {
     "name": "stdout",
     "output_type": "stream",
     "text": [
      "  1\t  2\t3.73e+00\n",
      "  1\t  3\t2.91e+00\n"
     ]
    },
    {
     "name": "stdout",
     "output_type": "stream",
     "text": [
      "  1\t  4\t1.39e+00\n",
      "  1\t  5\t6.29e-01\n",
      "  1\t  6\t2.85e-01\n",
      "  1\t  7\t1.26e-01\n"
     ]
    },
    {
     "name": "stdout",
     "output_type": "stream",
     "text": [
      "  1\t  8\t5.86e-02\n",
      "  1\t  9\t3.10e-02\n"
     ]
    },
    {
     "name": "stdout",
     "output_type": "stream",
     "text": [
      "  1\t 10\t1.02e-02\n",
      "  1\t 11\t5.23e-03\n",
      "\n",
      "Converged after 11 iterations.\n"
     ]
    },
    {
     "name": "stdout",
     "output_type": "stream",
     "text": [
      "=== gmres ===\n",
      "rest\titer\tresnorm\n",
      "  1\t  1\t4.12e+00\n"
     ]
    },
    {
     "name": "stdout",
     "output_type": "stream",
     "text": [
      "  1\t  2\t3.76e+00\n",
      "  1\t  3\t2.63e+00\n"
     ]
    },
    {
     "name": "stdout",
     "output_type": "stream",
     "text": [
      "  1\t  4\t1.21e+00\n",
      "  1\t  5\t5.51e-01\n",
      "  1\t  6\t1.72e-01\n",
      "  1\t  7\t1.25e-01\n"
     ]
    },
    {
     "name": "stdout",
     "output_type": "stream",
     "text": [
      "  1\t  8\t8.26e-02\n",
      "  1\t  9\t2.72e-02\n"
     ]
    },
    {
     "name": "stdout",
     "output_type": "stream",
     "text": [
      "  1\t 10\t9.47e-03\n",
      "  1\t 11\t5.44e-03\n",
      "\n",
      "Converged after 11 iterations.\n"
     ]
    },
    {
     "name": "stdout",
     "output_type": "stream",
     "text": [
      "=== gmres ===\n",
      "rest\titer\tresnorm\n",
      "  1\t  1\t1.73e+01\n"
     ]
    },
    {
     "name": "stdout",
     "output_type": "stream",
     "text": [
      "  1\t  2\t1.41e+01\n",
      "  1\t  3\t3.15e+00\n"
     ]
    },
    {
     "name": "stdout",
     "output_type": "stream",
     "text": [
      "  1\t  4\t1.68e+00\n",
      "  1\t  5\t1.46e+00\n",
      "  1\t  6\t1.26e+00\n",
      "  1\t  7\t7.84e-01\n"
     ]
    },
    {
     "name": "stdout",
     "output_type": "stream",
     "text": [
      "  1\t  8\t1.51e-01\n",
      "  1\t  9\t1.32e-01\n"
     ]
    },
    {
     "name": "stdout",
     "output_type": "stream",
     "text": [
      "  1\t 10\t6.14e-02\n",
      "  1\t 11\t3.91e-02\n"
     ]
    },
    {
     "name": "stdout",
     "output_type": "stream",
     "text": [
      "  1\t 12\t2.14e-02\n",
      "  1\t 13\t1.46e-02\n",
      "\n",
      "Converged after 13 iterations.\n"
     ]
    },
    {
     "name": "stdout",
     "output_type": "stream",
     "text": [
      "=== gmres ===\n",
      "rest\titer\tresnorm\n",
      "  1\t  1\t1.73e+01\n"
     ]
    },
    {
     "name": "stdout",
     "output_type": "stream",
     "text": [
      "  1\t  2\t1.38e+01\n",
      "  1\t  3\t2.61e+00\n"
     ]
    },
    {
     "name": "stdout",
     "output_type": "stream",
     "text": [
      "  1\t  4\t1.86e+00\n",
      "  1\t  5\t1.51e+00\n",
      "  1\t  6\t1.30e+00\n",
      "  1\t  7\t3.53e-01\n"
     ]
    },
    {
     "name": "stdout",
     "output_type": "stream",
     "text": [
      "  1\t  8\t1.52e-01\n",
      "  1\t  9\t1.29e-01\n"
     ]
    },
    {
     "name": "stdout",
     "output_type": "stream",
     "text": [
      "  1\t 10\t9.05e-02\n",
      "  1\t 11\t3.83e-02\n",
      "  1\t 12\t1.83e-02\n",
      "  1\t 13\t8.53e-03\n"
     ]
    },
    {
     "name": "stdout",
     "output_type": "stream",
     "text": [
      "\n",
      "Converged after 13 iterations.\n",
      "=== gmres ===\n",
      "rest\titer\tresnorm\n",
      "  1\t  1\t6.30e+01\n"
     ]
    },
    {
     "name": "stdout",
     "output_type": "stream",
     "text": [
      "  1\t  2\t4.60e+01\n",
      "  1\t  3\t1.35e+01\n"
     ]
    },
    {
     "name": "stdout",
     "output_type": "stream",
     "text": [
      "  1\t  4\t1.08e+01\n",
      "  1\t  5\t9.81e+00\n"
     ]
    },
    {
     "name": "stdout",
     "output_type": "stream",
     "text": [
      "  1\t  6\t4.94e+00\n",
      "  1\t  7\t2.42e+00\n",
      "  1\t  8\t1.82e+00\n",
      "  1\t  9\t1.25e+00\n"
     ]
    },
    {
     "name": "stdout",
     "output_type": "stream",
     "text": [
      "  1\t 10\t3.98e-01\n",
      "  1\t 11\t2.86e-01\n"
     ]
    },
    {
     "name": "stdout",
     "output_type": "stream",
     "text": [
      "  1\t 12\t2.26e-01\n",
      "  1\t 13\t1.72e-01\n",
      "  1\t 14\t9.82e-02\n",
      "  1\t 15\t3.93e-02\n"
     ]
    },
    {
     "name": "stdout",
     "output_type": "stream",
     "text": [
      "  1\t 16\t3.10e-02\n",
      "\n",
      "Converged after 16 iterations.\n",
      "=== gmres ===\n",
      "rest\titer\tresnorm\n"
     ]
    },
    {
     "name": "stdout",
     "output_type": "stream",
     "text": [
      "  1\t  1\t6.30e+01\n",
      "  1\t  2\t2.00e+01\n"
     ]
    },
    {
     "name": "stdout",
     "output_type": "stream",
     "text": [
      "  1\t  3\t1.15e+01\n",
      "  1\t  4\t1.07e+01\n"
     ]
    },
    {
     "name": "stdout",
     "output_type": "stream",
     "text": [
      "  1\t  5\t8.43e+00\n",
      "  1\t  6\t3.68e+00\n"
     ]
    },
    {
     "name": "stdout",
     "output_type": "stream",
     "text": [
      "  1\t  7\t2.20e+00\n",
      "  1\t  8\t1.52e+00\n"
     ]
    },
    {
     "name": "stdout",
     "output_type": "stream",
     "text": [
      "  1\t  9\t8.95e-01\n",
      "  1\t 10\t4.54e-01\n",
      "  1\t 11\t2.65e-01\n",
      "  1\t 12\t2.22e-01\n"
     ]
    },
    {
     "name": "stdout",
     "output_type": "stream",
     "text": [
      "  1\t 13\t1.03e-01\n",
      "  1\t 14\t5.63e-02\n"
     ]
    },
    {
     "name": "stdout",
     "output_type": "stream",
     "text": [
      "  1\t 15\t3.49e-02\n",
      "  1\t 16\t2.73e-02\n",
      "\n",
      "Converged after 16 iterations.\n"
     ]
    },
    {
     "name": "stdout",
     "output_type": "stream",
     "text": [
      "=== gmres ===\n",
      "rest\titer\tresnorm\n",
      "  1\t  1\t1.41e+02\n"
     ]
    },
    {
     "name": "stdout",
     "output_type": "stream",
     "text": [
      "  1\t  2\t4.30e+01\n",
      "  1\t  3\t3.56e+01\n"
     ]
    },
    {
     "name": "stdout",
     "output_type": "stream",
     "text": [
      "  1\t  4\t3.08e+01\n",
      "  1\t  5\t1.89e+01\n",
      "  1\t  6\t1.16e+01\n",
      "  1\t  7\t9.30e+00\n"
     ]
    },
    {
     "name": "stdout",
     "output_type": "stream",
     "text": [
      "  1\t  8\t4.00e+00\n",
      "  1\t  9\t2.91e+00\n"
     ]
    },
    {
     "name": "stdout",
     "output_type": "stream",
     "text": [
      "  1\t 10\t2.24e+00\n",
      "  1\t 11\t1.47e+00\n",
      "  1\t 12\t7.88e-01\n",
      "  1\t 13\t6.38e-01\n"
     ]
    },
    {
     "name": "stdout",
     "output_type": "stream",
     "text": [
      "  1\t 14\t4.57e-01\n",
      "  1\t 15\t2.92e-01\n"
     ]
    },
    {
     "name": "stdout",
     "output_type": "stream",
     "text": [
      "  1\t 16\t1.94e-01\n",
      "  1\t 17\t1.41e-01\n",
      "  1\t 18\t1.04e-01\n",
      "  1\t 19\t4.77e-02\n"
     ]
    },
    {
     "name": "stdout",
     "output_type": "stream",
     "text": [
      "\n",
      "Converged after 19 iterations.\n",
      "=== gmres ===\n",
      "rest\titer\tresnorm\n",
      "  1\t  1\t1.41e+02\n"
     ]
    },
    {
     "name": "stdout",
     "output_type": "stream",
     "text": [
      "  1\t  2\t4.44e+01\n",
      "  1\t  3\t3.57e+01\n"
     ]
    },
    {
     "name": "stdout",
     "output_type": "stream",
     "text": [
      "  1\t  4\t3.08e+01\n",
      "  1\t  5\t1.86e+01\n"
     ]
    },
    {
     "name": "stdout",
     "output_type": "stream",
     "text": [
      "  1\t  6\t1.16e+01\n",
      "  1\t  7\t9.01e+00\n"
     ]
    },
    {
     "name": "stdout",
     "output_type": "stream",
     "text": [
      "  1\t  8\t3.88e+00\n",
      "  1\t  9\t2.88e+00\n"
     ]
    },
    {
     "name": "stdout",
     "output_type": "stream",
     "text": [
      "  1\t 10\t2.20e+00\n",
      "  1\t 11\t1.49e+00\n",
      "  1\t 12\t9.13e-01\n",
      "  1\t 13\t6.44e-01\n"
     ]
    },
    {
     "name": "stdout",
     "output_type": "stream",
     "text": [
      "  1\t 14\t5.15e-01\n",
      "  1\t 15\t3.03e-01\n"
     ]
    },
    {
     "name": "stdout",
     "output_type": "stream",
     "text": [
      "  1\t 16\t2.02e-01\n",
      "  1\t 17\t1.48e-01\n",
      "  1\t 18\t8.66e-02\n",
      "  1\t 19\t4.75e-02\n"
     ]
    },
    {
     "name": "stdout",
     "output_type": "stream",
     "text": [
      "\n",
      "Converged after 19 iterations.\n",
      "=== gmres ===\n",
      "rest\titer\tresnorm\n",
      "  1\t  1\t1.74e+02\n"
     ]
    },
    {
     "name": "stdout",
     "output_type": "stream",
     "text": [
      "  1\t  2\t6.41e+01\n",
      "  1\t  3\t5.19e+01\n"
     ]
    },
    {
     "name": "stdout",
     "output_type": "stream",
     "text": [
      "  1\t  4\t4.25e+01\n",
      "  1\t  5\t2.51e+01\n"
     ]
    },
    {
     "name": "stdout",
     "output_type": "stream",
     "text": [
      "  1\t  6\t2.13e+01\n",
      "  1\t  7\t1.61e+01\n",
      "  1\t  8\t9.45e+00\n",
      "  1\t  9\t7.57e+00\n"
     ]
    },
    {
     "name": "stdout",
     "output_type": "stream",
     "text": [
      "  1\t 10\t5.42e+00\n",
      "  1\t 11\t3.10e+00\n"
     ]
    },
    {
     "name": "stdout",
     "output_type": "stream",
     "text": [
      "  1\t 12\t2.45e+00\n",
      "  1\t 13\t2.06e+00\n",
      "  1\t 14\t1.36e+00\n",
      "  1\t 15\t1.02e+00\n"
     ]
    },
    {
     "name": "stdout",
     "output_type": "stream",
     "text": [
      "  1\t 16\t7.47e-01\n",
      "  1\t 17\t4.74e-01\n"
     ]
    },
    {
     "name": "stdout",
     "output_type": "stream",
     "text": [
      "  1\t 18\t2.83e-01\n",
      "  1\t 19\t2.09e-01\n",
      "  1\t 20\t1.42e-01\n",
      "  1\t 21\t1.04e-01\n"
     ]
    },
    {
     "name": "stdout",
     "output_type": "stream",
     "text": [
      "  1\t 22\t8.20e-02\n",
      "  1\t 23\t4.86e-02\n",
      "\n",
      "Converged after 23 iterations.\n"
     ]
    },
    {
     "name": "stdout",
     "output_type": "stream",
     "text": [
      "=== gmres ===\n",
      "rest\titer\tresnorm\n",
      "  1\t  1\t1.74e+02\n"
     ]
    },
    {
     "name": "stdout",
     "output_type": "stream",
     "text": [
      "  1\t  2\t6.28e+01\n",
      "  1\t  3\t5.19e+01\n"
     ]
    },
    {
     "name": "stdout",
     "output_type": "stream",
     "text": [
      "  1\t  4\t3.63e+01\n",
      "  1\t  5\t2.43e+01\n",
      "  1\t  6\t2.05e+01\n",
      "  1\t  7\t1.66e+01\n"
     ]
    },
    {
     "name": "stdout",
     "output_type": "stream",
     "text": [
      "  1\t  8\t9.12e+00\n",
      "  1\t  9\t7.69e+00\n"
     ]
    },
    {
     "name": "stdout",
     "output_type": "stream",
     "text": [
      "  1\t 10\t5.35e+00\n",
      "  1\t 11\t3.04e+00\n",
      "  1\t 12\t2.43e+00\n",
      "  1\t 13\t1.92e+00\n"
     ]
    },
    {
     "name": "stdout",
     "output_type": "stream",
     "text": [
      "  1\t 14\t1.32e+00\n",
      "  1\t 15\t1.04e+00\n"
     ]
    },
    {
     "name": "stdout",
     "output_type": "stream",
     "text": [
      "  1\t 16\t7.50e-01\n",
      "  1\t 17\t5.35e-01\n",
      "  1\t 18\t2.80e-01\n",
      "  1\t 19\t2.06e-01\n"
     ]
    },
    {
     "name": "stdout",
     "output_type": "stream",
     "text": [
      "  1\t 20\t1.46e-01\n",
      "  1\t 21\t1.06e-01\n"
     ]
    },
    {
     "name": "stdout",
     "output_type": "stream",
     "text": [
      "  1\t 22\t8.10e-02\n",
      "  1\t 23\t5.67e-02\n"
     ]
    },
    {
     "name": "stdout",
     "output_type": "stream",
     "text": [
      "  1\t 24\t3.26e-02\n",
      "\n",
      "Converged after 24 iterations.\n",
      " 14.178175 seconds (336.39 k allocations: 19.562 GiB, 7.03% gc time)\n"
     ]
    },
    {
     "data": {
      "text/plain": [
       "Dict{String, String} with 3 entries:\n",
       "  \"matrix_Z\" => \"[[[[25.0966484770434,0.0009496074287147255],[25.09664443777136…\n",
       "  \"matrix_S\" => \"[[[[-0.49614907092313587,3.994040273127039e-5],[-0.49614910084…\n",
       "  \"matrix_Y\" => \"[[[[6491.28569757601,-68.60189126965025],[6488.615744285878,-1…"
      ]
     },
     "metadata": {},
     "output_type": "display_data"
    }
   ],
   "source": [
    "using JLD2\n",
    "@load \"/Users/edgardovittoria/Downloads/crossbarInput.jl\" mesherDict inputDict unit\n",
    "println(\"Running Test crossbar 1\")\n",
    "doSolving(mesherDict, inputDict, unit)\n"
   ]
  },
  {
   "cell_type": "code",
   "execution_count": 9,
   "metadata": {},
   "outputs": [
    {
     "name": "stdout",
     "output_type": "stream",
     "text": [
      "Running Test crossbar 2\n",
      "  5.616977 seconds (194.94 M allocations: 4.450 GiB, 6.42% gc time)\n",
      "time for solver\n",
      "6\n",
      "Freq n=1 - Freq Tot=10\n",
      "Converged after 9 iterations.\n",
      "Converged after 9 iterations.\n",
      "Freq n=2 - Freq Tot=10\n",
      "Converged after 22 iterations.\n",
      "Converged after 19 iterations.\n",
      "Freq n=3 - Freq Tot=10\n",
      "Converged after 8 iterations.\n",
      "Converged after 8 iterations.\n",
      "Freq n=4 - Freq Tot=10\n",
      "Converged after 9 iterations.\n",
      "Converged after 10 iterations.\n",
      "Freq n=5 - Freq Tot=10\n",
      "Converged after 12 iterations.\n",
      "Converged after 11 iterations.\n",
      "Freq n=6 - Freq Tot=10\n",
      "Converged after 14 iterations.\n",
      "Converged after 14 iterations.\n",
      "Freq n=7 - Freq Tot=10\n",
      "Converged after 16 iterations.\n",
      "Converged after 16 iterations.\n",
      "Freq n=8 - Freq Tot=10\n",
      "Converged after 22 iterations.\n",
      "Converged after 22 iterations.\n",
      "Freq n=9 - Freq Tot=10\n",
      "Converged after 26 iterations.\n",
      "Converged after 26 iterations.\n",
      "Freq n=10 - Freq Tot=10\n",
      "Converged after 30 iterations.\n",
      "Converged after 30 iterations.\n",
      " 72.431848 seconds (4.71 M allocations: 172.974 GiB, 5.49% gc time, 0.89% compilation time)\n"
     ]
    },
    {
     "data": {
      "text/plain": [
       "Dict{String, String} with 3 entries:\n",
       "  \"matrix_Z\" => \"[[[[25.09029618414711,0.0009044870023106877],[25.0902826009744…\n",
       "  \"matrix_S\" => \"[[[[-0.4964015464160233,3.8052292442619926e-5],[-0.49640167949…\n",
       "  \"matrix_Y\" => \"[[[[6946.8839040746925,-74.84882334386359],[6943.914028568541,…"
      ]
     },
     "execution_count": 9,
     "metadata": {},
     "output_type": "execute_result"
    }
   ],
   "source": [
    "using JLD2\n",
    "@load \"/Users/edgardovittoria/Downloads/crossbarInput2.jl\" mesherDict inputDict unit\n",
    "println(\"Running Test crossbar 2\")\n",
    "doSolving(mesherDict, inputDict, unit)"
   ]
  },
  {
   "cell_type": "code",
   "execution_count": 12,
   "metadata": {},
   "outputs": [
    {
     "name": "stdout",
     "output_type": "stream",
     "text": [
      "Running Test crossbar 3\n",
      " 20.331175 seconds (674.98 M allocations: 20.471 GiB, 7.75% gc time)\n",
      "time for solver\n",
      "6\n",
      "Freq n=1 - Freq Tot=10\n",
      "Converged after 11 iterations.\n",
      "Converged after 11 iterations.\n",
      "Freq n=2 - Freq Tot=10\n",
      "Converged after 29 iterations.\n",
      "Converged after 33 iterations.\n",
      "Freq n=3 - Freq Tot=10\n",
      "Converged after 11 iterations.\n",
      "Converged after 12 iterations.\n",
      "Freq n=4 - Freq Tot=10\n",
      "Converged after 15 iterations.\n",
      "Converged after 15 iterations.\n",
      "Freq n=5 - Freq Tot=10\n",
      "Converged after 17 iterations.\n",
      "Converged after 17 iterations.\n",
      "Freq n=6 - Freq Tot=10\n",
      "Converged after 21 iterations.\n",
      "Converged after 21 iterations.\n",
      "Freq n=7 - Freq Tot=10\n",
      "Converged after 25 iterations.\n",
      "Converged after 25 iterations.\n",
      "Freq n=8 - Freq Tot=10\n",
      "Converged after 30 iterations.\n",
      "Converged after 30 iterations.\n",
      "Freq n=9 - Freq Tot=10\n",
      "Converged after 37 iterations.\n",
      "Converged after 38 iterations.\n",
      "Freq n=10 - Freq Tot=10\n",
      "Converged after 44 iterations.\n",
      "Converged after 44 iterations.\n",
      "894.110674 seconds (1.96 M allocations: 1.795 TiB, 3.69% gc time)\n"
     ]
    },
    {
     "data": {
      "text/plain": [
       "Dict{String, String} with 3 entries:\n",
       "  \"matrix_Z\" => \"[[[[25.092887452786815,0.0007390904828431585],[25.092859952592…\n",
       "  \"matrix_S\" => \"[[[[-0.4962990303588418,3.614306340881113e-5],[-0.496299341682…\n",
       "  \"matrix_Y\" => \"[[[[6755.014947586592,-70.14575769178292],[6752.164208219463,-…"
      ]
     },
     "execution_count": 12,
     "metadata": {},
     "output_type": "execute_result"
    }
   ],
   "source": [
    "using JLD2\n",
    "@load \"/Users/edgardovittoria/Downloads/crossbarInput3.jl\" mesherDict inputDict unit\n",
    "println(\"Running Test crossbar 3\")\n",
    "doSolving(mesherDict, inputDict, unit)"
   ]
  },
  {
   "cell_type": "code",
   "execution_count": 3,
   "metadata": {},
   "outputs": [
    {
     "name": "stdout",
     "output_type": "stream",
     "text": [
      "Running Test wpt 1\n",
      "  3.834642 seconds (32.79 M allocations: 1.374 GiB, 3.73% gc time, 79.43% compilation time)\n",
      "time for solver\n",
      "6\n",
      "Freq n=1 - Freq Tot=10\n",
      "Converged after 20 iterations.\n",
      "Freq n=2 - Freq Tot=10\n",
      "Converged after 20 iterations.\n",
      "Freq n=3 - Freq Tot=10\n",
      "Converged after 19 iterations.\n",
      "Freq n=4 - Freq Tot=10\n",
      "Converged after 26 iterations.\n",
      "Freq n=5 - Freq Tot=10\n",
      "Converged after 21 iterations.\n",
      "Freq n=6 - Freq Tot=10\n",
      "Converged after 46 iterations.\n",
      "Freq n=7 - Freq Tot=10\n",
      "Converged after 51 iterations.\n",
      "Freq n=8 - Freq Tot=10\n",
      "Converged after 38 iterations.\n",
      "Freq n=9 - Freq Tot=10\n",
      "Converged after 55 iterations.\n",
      "Freq n=10 - Freq Tot=10\n",
      "Converged after 73 iterations.\n",
      " 60.759400 seconds (24.36 M allocations: 97.366 GiB, 4.86% gc time, 6.88% compilation time)\n"
     ]
    },
    {
     "data": {
      "text/plain": [
       "Dict{String, String} with 3 entries:\n",
       "  \"matrix_Z\" => \"[[[[25.005681746335245,-0.0005237416422886069],[25.00813705366…\n",
       "  \"matrix_S\" => \"[[[[-0.333232332096097,-9.309551955354323e-6],[-0.333188689590…\n",
       "  \"matrix_Y\" => \"[[[[99.97727813478507,0.0020940146472723633],[99.9674619008460…"
      ]
     },
     "execution_count": 3,
     "metadata": {},
     "output_type": "execute_result"
    }
   ],
   "source": [
    "using JLD2\n",
    "@load \"/Users/edgardovittoria/Downloads/wptInput.jl\" mesherDict inputDict unit\n",
    "println(\"Running Test wpt 1\")\n",
    "doSolving(mesherDict, inputDict, unit)"
   ]
  },
  {
   "cell_type": "code",
   "execution_count": null,
   "metadata": {},
   "outputs": [
    {
     "name": "stdout",
     "output_type": "stream",
     "text": [
      "Running Test wpt 2\n",
      "  5.543879 seconds (171.46 M allocations: 7.253 GiB, 12.06% gc time)\n",
      "time for solver\n",
      "6\n",
      "Freq n=1 - Freq Tot=10\n",
      "Converged after 25 iterations.\n",
      "Freq n=2 - Freq Tot=10\n"
     ]
    }
   ],
   "source": [
    "using JLD2\n",
    "@load \"/Users/edgardovittoria/Downloads/wptInput2.jl\" mesherDict inputDict unit\n",
    "println(\"Running Test wpt 2\")\n",
    "doSolving(mesherDict, inputDict, unit)"
   ]
  },
  {
   "cell_type": "code",
   "execution_count": null,
   "metadata": {},
   "outputs": [],
   "source": [
    "using JLD2\n",
    "@load \"/Users/edgardovittoria/Downloads/antennaInput.jl\" mesherDict inputDict unit\n",
    "println(\"Running Test antenna 1\")\n",
    "doSolving(mesherDict, inputDict, unit)"
   ]
  },
  {
   "cell_type": "code",
   "execution_count": null,
   "metadata": {},
   "outputs": [],
   "source": [
    "using JLD2\n",
    "@load \"/Users/edgardovittoria/Downloads/antennaInput2.jl\" mesherDict inputDict unit\n",
    "println(\"Running Test antenna 2\")\n",
    "doSolving(mesherDict, inputDict, unit)"
   ]
  },
  {
   "cell_type": "code",
   "execution_count": null,
   "metadata": {},
   "outputs": [],
   "source": [
    "using JLD2\n",
    "@load \"/Users/edgardovittoria/Downloads/antennaInput3.jl\" mesherDict inputDict unit\n",
    "println(\"Running Test antenna 3\")\n",
    "doSolving(mesherDict, inputDict, unit)"
   ]
  },
  {
   "cell_type": "code",
   "execution_count": null,
   "metadata": {},
   "outputs": [],
   "source": [
    "using JLD2\n",
    "@load \"/Users/edgardovittoria/Downloads/copperLoopInput.jl\" mesherDict inputDict unit\n",
    "println(\"Running Test copper Loop 1\")\n",
    "doSolving(mesherDict, inputDict, unit)"
   ]
  },
  {
   "cell_type": "code",
   "execution_count": null,
   "metadata": {},
   "outputs": [],
   "source": [
    "using JLD2\n",
    "@load \"/Users/edgardovittoria/Downloads/copperLoopInput2.jl\" mesherDict inputDict unit\n",
    "println(\"Running Test copper Loop 2\")\n",
    "doSolving(mesherDict, inputDict, unit)"
   ]
  },
  {
   "cell_type": "code",
   "execution_count": null,
   "metadata": {},
   "outputs": [],
   "source": [
    "using JLD2\n",
    "@load \"/Users/edgardovittoria/Downloads/copperLoopInput3.jl\" mesherDict inputDict unit\n",
    "println(\"Running Test copper Loop 3\")\n",
    "doSolving(mesherDict, inputDict, unit)\n"
   ]
  },
  {
   "cell_type": "code",
   "execution_count": null,
   "metadata": {},
   "outputs": [],
   "source": [
    "using JLD2\n",
    "@load \"/Users/edgardovittoria/Downloads/spiraleInput.jl\" mesherDict inputDict unit\n",
    "println(\"Running Test spirale 1\")\n",
    "doSolving(mesherDict, inputDict, unit)\n"
   ]
  },
  {
   "cell_type": "code",
   "execution_count": null,
   "metadata": {},
   "outputs": [],
   "source": [
    "using JLD2\n",
    "@load \"/Users/edgardovittoria/Downloads/spiraleInput2.jl\" mesherDict inputDict unit\n",
    "println(\"Running Test spirale 2\")\n",
    "doSolving(mesherDict, inputDict, unit)"
   ]
  },
  {
   "cell_type": "code",
   "execution_count": null,
   "metadata": {},
   "outputs": [],
   "source": [
    "using JLD2\n",
    "\n",
    "@load \"/Users/edgardovittoria/Downloads/spiraleInput3.jl\" mesherDict inputDict unit\n",
    "println(\"Running Test spirale 3\")\n",
    "doSolving(mesherDict, inputDict, unit)"
   ]
  }
 ],
 "metadata": {
  "kernelspec": {
   "display_name": "Julia 1.8.5",
   "language": "julia",
   "name": "julia-1.8"
  },
  "language_info": {
   "file_extension": ".jl",
   "mimetype": "application/julia",
   "name": "julia",
   "version": "1.8.5"
  }
 },
 "nbformat": 4,
 "nbformat_minor": 4
}
